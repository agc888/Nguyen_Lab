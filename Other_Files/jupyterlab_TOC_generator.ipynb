{
 "cells": [
  {
   "cell_type": "code",
   "execution_count": 1,
   "id": "178b9b61-4f5d-4a2f-a7c3-a3b26e17cf6f",
   "metadata": {},
   "outputs": [],
   "source": [
    "import urllib\n",
    "import json\n",
    "\n"
   ]
  },
  {
   "cell_type": "code",
   "execution_count": 3,
   "id": "91ed535a-34c0-4f8b-bdf0-e87fb524aaa6",
   "metadata": {},
   "outputs": [],
   "source": [
    "notebook_path = \"/home/uqacause/uqacause/Nguyen_Lab/SpaMTP_Testing/test_toc.ipynb\""
   ]
  },
  {
   "cell_type": "code",
   "execution_count": 11,
   "id": "31f81572-2a86-488c-b118-957f6ae12c96",
   "metadata": {},
   "outputs": [],
   "source": [
    "def generate_toc(notebook_path, indent_char=\" \"):\n",
    "    is_markdown = lambda it: \"markdown\" == it[\"cell_type\"]\n",
    "    is_title = lambda it: it.strip().startswith(\"#\") and it.strip().lstrip(\"#\").lstrip()\n",
    "\n",
    "    with open(notebook_path, 'r') as in_f:\n",
    "        nb_json = json.load(in_f)\n",
    "\n",
    "    toc_numbers = []  # Lista para llevar el conteo de los números de contenido en cada nivel\n",
    "    \n",
    "    for cell in filter(is_markdown, nb_json[\"cells\"]):\n",
    "        for line in filter(is_title, cell[\"source\"]):\n",
    "            line = line.strip()\n",
    "            title = line.lstrip(\"#\").lstrip()\n",
    "    \n",
    "            level = line.count(\"#\")  # Nivel del título según la cantidad de \"#\"\n",
    "    \n",
    "            if level > len(toc_numbers):\n",
    "                toc_numbers.append(1)  # Agregar un nuevo nivel con numeración inicial en 1\n",
    "            else:\n",
    "                toc_numbers[level - 1] += 1  # Incrementar el número de contenido en el nivel actual\n",
    "                toc_numbers[level:] = [1] * (len(toc_numbers) - level)  # Reiniciar numeración en niveles inferiores\n",
    "    \n",
    "            toc_number_str = \".\".join(str(num) for num in toc_numbers[:level])\n",
    "            indent = indent_char * level\n",
    "            url = urllib.parse.quote(title.replace(\" \", \"-\"))\n",
    "            out_line = f\"{indent}{toc_number_str} [{title}](#{url})<br>\\n\"\n",
    "            print(out_line, end=\"\")"
   ]
  },
  {
   "cell_type": "code",
   "execution_count": null,
   "id": "9074a959-0c43-4c6f-bebb-5c5653583205",
   "metadata": {},
   "outputs": [],
   "source": []
  },
  {
   "cell_type": "code",
   "execution_count": 12,
   "id": "aabc5699-3aba-4e76-b3a9-0ac2a9601df5",
   "metadata": {},
   "outputs": [
    {
     "name": "stdout",
     "output_type": "stream",
     "text": [
      " 1 [Spatial Metabolomics - Medulablastoma Project: FMP10 matrix](#Spatial-Metabolomics---Medulablastoma-Project%3A-FMP10-matrix)<br>\n",
      "  1.1 [Load Required Packages](#Load-Required-Packages)<br>\n",
      "  1.2 [Load Data](#Load-Data)<br>\n",
      "  1.3 [Merge all samples into one Cardinal Object](#Merge-all-samples-into-one-Cardinal-Object)<br>\n",
      "  1.4 [Import sample segmentation clusters (SSC data)](#Import-sample-segmentation-clusters-%28SSC-data%29)<br>\n",
      "  1.5 [Convert Cardinal object to a Seurat object](#Convert-Cardinal-object-to-a-Seurat-object)<br>\n",
      "  1.6 [Save Data](#Save-Data)<br>\n"
     ]
    }
   ],
   "source": [
    "generate_toc(notebook_path)"
   ]
  }
 ],
 "metadata": {
  "kernelspec": {
   "display_name": "Python 3 (ipykernel)",
   "language": "python",
   "name": "python3"
  },
  "language_info": {
   "codemirror_mode": {
    "name": "ipython",
    "version": 3
   },
   "file_extension": ".py",
   "mimetype": "text/x-python",
   "name": "python",
   "nbconvert_exporter": "python",
   "pygments_lexer": "ipython3",
   "version": "3.9.12"
  }
 },
 "nbformat": 4,
 "nbformat_minor": 5
}
