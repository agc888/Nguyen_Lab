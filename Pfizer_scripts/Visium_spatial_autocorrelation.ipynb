{
 "cells": [
  {
   "cell_type": "code",
   "execution_count": null,
   "id": "a3aadaea-1114-497a-8f2f-6478fa46367b",
   "metadata": {},
   "outputs": [],
   "source": [
    "import numpy as np\n",
    "import pandas as pd\n",
    "from pathlib import Path\n",
    "\n",
    "import anndata as ad\n",
    "import scanpy as sc\n",
    "import squidpy as sq\n",
    "import matplotlib.pyplot as plt"
   ]
  },
  {
   "cell_type": "code",
   "execution_count": null,
   "id": "e07c0a4f-6ac2-4de6-86b6-72041b6c995a",
   "metadata": {},
   "outputs": [],
   "source": [
    "data_dic = {}"
   ]
  },
  {
   "cell_type": "markdown",
   "id": "aac80ee6-3ef5-46ed-81ed-b023d5bec39c",
   "metadata": {},
   "source": [
    "## Import and Load Data "
   ]
  },
  {
   "cell_type": "code",
   "execution_count": null,
   "id": "5351dad8-a5e2-442e-9931-c52d5836c1b3",
   "metadata": {},
   "outputs": [],
   "source": [
    "OUT_DIR = \"/QRISdata/Q1851/Andrew_C/Pfizer/Visium/\""
   ]
  },
  {
   "cell_type": "code",
   "execution_count": null,
   "id": "7d170d43-e47d-468d-bf25-713eb98f274f",
   "metadata": {},
   "outputs": [],
   "source": [
    "### Read Visium Data\n",
    "def read_visium(sample):\n",
    "    PATH = \"/QRISdata/Q2051/Pfizer/Visium/RAW_DATA/Pfizer/Python/\" + sample + \"/outs/\"\n",
    "    adata = sc.read_visium(PATH)\n",
    "    adata.obsm['spatial'] = adata.obsm['spatial'].astype(np.int)\n",
    "    return(adata)\n"
   ]
  },
  {
   "cell_type": "code",
   "execution_count": null,
   "id": "52aeb8af-71fe-440d-a808-3a461ccebebb",
   "metadata": {},
   "outputs": [],
   "source": [
    "#Samples to be used\n",
    "sample_list = [\"VLP78_A\",  \"VLP78_D\",  \"VLP79_A\",  \"VLP79_D\",  \"VLP80_A\",  \"VLP80_D\",  \"VLP81_A\",  \"VLP82_A\",  \"VLP82_D\",  \"VLP83_A\",  \"VLP83_D\"]\n",
    "\n",
    "data_dic = {}\n",
    "\n",
    "for sample in sample_list:\n",
    "    data_dic[sample] = read_visium(sample)\n",
    "    "
   ]
  },
  {
   "cell_type": "markdown",
   "id": "58b8e78f-a7a8-4d08-b3f0-a27a7349f865",
   "metadata": {},
   "source": [
    "## Run Preprocessing"
   ]
  },
  {
   "cell_type": "code",
   "execution_count": null,
   "id": "b9ce946d-487c-4c00-9033-5b720bec752c",
   "metadata": {},
   "outputs": [],
   "source": [
    "def process_visium(adata):\n",
    "    #print(\"filtering data\")\n",
    "    sc.pp.filter_cells(adata, min_counts=10)\n",
    "    sc.pp.filter_genes(adata, min_cells=3)\n",
    "    #print(\"normalize total\")\n",
    "    sc.pp.normalize_total(adata)\n",
    "    #print(\"log transform\")\n",
    "    sc.pp.log1p(adata)\n",
    "    #print(\"scale\")\n",
    "    sc.pp.scale(adata, max_value=10)\n",
    "    return(adata)"
   ]
  },
  {
   "cell_type": "code",
   "execution_count": null,
   "id": "47f31743-92c4-402b-9d9d-bf900efb970a",
   "metadata": {
    "scrolled": true
   },
   "outputs": [],
   "source": [
    "normalised_data_dic = {}\n",
    "for sample, data in data_dic.items():\n",
    "    normalised_data_dic[sample] = process_visium(data.copy())"
   ]
  },
  {
   "cell_type": "markdown",
   "id": "72483ec7-f803-45fd-8014-24e4c2232a9d",
   "metadata": {},
   "source": [
    "## Run and Plot Clustering"
   ]
  },
  {
   "cell_type": "code",
   "execution_count": null,
   "id": "d8f97b8e-2f45-4eac-9a1b-14c8ec5e678e",
   "metadata": {},
   "outputs": [],
   "source": [
    "def cluster_visium(adata):\n",
    "    resolution = 0.5\n",
    "    #print(\"PCA\")\n",
    "    sc.tl.pca(adata, svd_solver=\"arpack\")\n",
    "    #print(\"neighbors\")\n",
    "    sc.pp.neighbors(adata, n_neighbors=10, n_pcs=30)\n",
    "    #print(\"UMAP\")\n",
    "    sc.tl.umap(adata)\n",
    "    #print(\"Leiden\")\n",
    "    sc.tl.leiden(adata, resolution=resolution)\n",
    "    return(adata)"
   ]
  },
  {
   "cell_type": "code",
   "execution_count": null,
   "id": "8e2c1a6d-98f0-4f9e-b6f1-70d4f1144a32",
   "metadata": {},
   "outputs": [],
   "source": [
    "for sample, data in data_dic.items():\n",
    "    data_dic[sample] = cluster_visium(data)"
   ]
  },
  {
   "cell_type": "code",
   "execution_count": null,
   "id": "14c8a22d-8473-44fe-a99d-07b0f4646de2",
   "metadata": {},
   "outputs": [],
   "source": [
    "def plot_data(adata, sample, data_to_plot, UMAP = False):\n",
    "\n",
    "    if UMAP == True:\n",
    "        \n",
    "        fig, (ax1, ax2) = plt.subplots(1, 2, figsize=(20, 10))\n",
    "\n",
    "\n",
    "        # Create the first plot\n",
    "        plot1  = sc.pl.umap(adata, color=[data_to_plot], size=10,  ax=ax1, show=False, title= str(sample)+ \": \" + str(data_to_plot) + \" UMAP\")\n",
    "\n",
    "        # Create the second plot\n",
    "        plot2 = sq.pl.spatial_scatter(adata, color=data_to_plot, size=1.3, figsize=(10, 10), ax=ax2, title= str(sample)+ \": \" + str(data_to_plot) + \" Spatial Plot\", img_res_key=\"lowres\")\n",
    "        \n",
    "    else:\n",
    "        sq.pl.spatial_scatter(adata, color=data_to_plot, size=1.3, figsize=(10, 10), title= str(sample)+ \": \" + str(data_to_plot) + \" Spatial Plot\")\n",
    "\n",
    "\n"
   ]
  },
  {
   "cell_type": "code",
   "execution_count": null,
   "id": "233e1f4d-7f1e-4fba-98e3-e561cc59a203",
   "metadata": {
    "scrolled": true
   },
   "outputs": [],
   "source": [
    "for sample, data in data_dic.items():\n",
    "    plot_data(data, sample, \"leiden\", UMAP=True)"
   ]
  },
  {
   "cell_type": "markdown",
   "id": "d076599a-6b74-41e7-b7d7-032dad822168",
   "metadata": {},
   "source": [
    "## Add Label Transfer Data "
   ]
  },
  {
   "cell_type": "code",
   "execution_count": null,
   "id": "8e516a5e-0452-4e47-a89d-ad6d6ce3d307",
   "metadata": {},
   "outputs": [],
   "source": [
    "#add label transfer\n",
    "def add_spot_annotations(adata, sample):\n",
    "    df = pd.read_csv(\"/QRISdata/Q1851/Andrew_C/Pfizer/Visium/\"+sample+\"/label_transfer/\"+sample+\"_label_transfer.csv\")\n",
    "    df.set_index(\"Unnamed: 0\", inplace=True)\n",
    "    adata.obs[\"label_transfer\"] = df[\"predicted.id\"]\n",
    "    adata = adata[adata.obs['label_transfer'].notna()]\n",
    "    return(adata)"
   ]
  },
  {
   "cell_type": "code",
   "execution_count": null,
   "id": "1d29feab-c1cd-4063-9a35-b3fee522e223",
   "metadata": {
    "scrolled": true
   },
   "outputs": [],
   "source": [
    "for sample, data in data_dic.items():\n",
    "    new_data = add_spot_annotations(data, sample)\n",
    "    data_dic[sample] = new_data\n",
    "    #plot_data(new_data, sample, \"label_transfer\", UMAP=False)"
   ]
  },
  {
   "cell_type": "markdown",
   "id": "e41fc29c-0603-483d-87cf-0478a78884df",
   "metadata": {},
   "source": [
    "## Run Neighborhood Analsyis between Clusters and Cell Type Labels"
   ]
  },
  {
   "cell_type": "code",
   "execution_count": null,
   "id": "60e6449e-cb56-4260-9e36-112561a0bc03",
   "metadata": {},
   "outputs": [],
   "source": [
    "def run_neighborhood(adata, data_to_cluster):\n",
    "    sq.gr.spatial_neighbors(adata, coord_type=\"generic\", spatial_key=\"spatial\")\n",
    "    sq.gr.nhood_enrichment(adata, cluster_key=data_to_cluster)\n",
    "    return(adata)\n",
    "\n",
    "def plot_neighborhood(adata, data_to_plot):\n",
    "    sq.pl.nhood_enrichment(adata,cluster_key=data_to_plot, method=\"average\",cmap=\"inferno\",vmin=-50,vmax=100,figsize=(10, 10))\n"
   ]
  },
  {
   "cell_type": "code",
   "execution_count": null,
   "id": "c7e07ca0-72cb-4188-828a-4968e4fbb7df",
   "metadata": {},
   "outputs": [],
   "source": [
    "for sample, data in data_dic.items():\n",
    "    new_data = run_neighborhood(data, \"leiden\")\n",
    "    new_data_2 = run_neighborhood(new_data, \"label_transfer\")\n",
    "    data_dic[sample] = new_data_2\n",
    "\n",
    "    fig, (ax1, ax2) = plt.subplots(1, 2, figsize=(20, 10))\n",
    "\n",
    "    # Create the first plot\n",
    "    plot1  = sq.pl.nhood_enrichment(new_data_2,cluster_key=\"leiden\", method=\"average\",cmap=\"inferno\",vmin=-50,vmax=100,figsize=(10, 10),  ax=ax1, title= str(sample)+ \": 'leiden' NbrHood Enrichment\")\n",
    "\n",
    "    # Create the second plot\n",
    "    plot2 = sq.pl.nhood_enrichment(new_data_2,cluster_key=\"label_transfer\", method=\"average\",cmap=\"inferno\",vmin=-50,vmax=100,figsize=(10, 10),  ax=ax2, title= str(sample)+ \": 'label_transfer' NbrHood Enrichment\")\n",
    "        \n",
    "    "
   ]
  },
  {
   "cell_type": "markdown",
   "id": "d5402ecf-3c8a-4cb3-b6b9-3185699f9a35",
   "metadata": {},
   "source": [
    "## Run Spatial Autocorrelation"
   ]
  },
  {
   "cell_type": "code",
   "execution_count": null,
   "id": "e35cbce1-7ca3-46c9-9073-36bc78d2cb6a",
   "metadata": {},
   "outputs": [],
   "source": [
    "def run_spatial_autocorrelation(adata):\n",
    "    num_genes = len(adata.var_names)\n",
    "    renames_genes = []\n",
    "    for gene in adata.var_names:\n",
    "        if gene not in renames_genes:\n",
    "            renames_genes.append(gene)\n",
    "        else:\n",
    "            renames_genes.append(gene+\".1\")\n",
    "\n",
    "    adata.var_names = renames_genes\n",
    "\n",
    "    #run autocorrelation\n",
    "    sq.gr.spatial_autocorr(adata, mode=\"moran\")\n",
    "    return(adata)"
   ]
  },
  {
   "cell_type": "code",
   "execution_count": null,
   "id": "b853b436-bd05-422f-9511-cb83b3de415d",
   "metadata": {},
   "outputs": [],
   "source": [
    "for sample, data in data_dic.items():\n",
    "    data_dic[sample] = run_spatial_autocorrelation(data)"
   ]
  },
  {
   "cell_type": "code",
   "execution_count": null,
   "id": "2f991ba0-4f4e-4c29-8adf-22c259c1f3f1",
   "metadata": {},
   "outputs": [],
   "source": [
    "## Plot auto correlation\n",
    "def plot_autocorrelation(adata, sample, genes_to_plot, stat_summary = False):\n",
    "\n",
    "    if stat_summary == True:\n",
    "        ###print statistics ###\n",
    "        print(\"sample: \"+ sample)\n",
    "        for gene in genes_to_plot:\n",
    "            print(\"Spatial Autocorrelation Rank of \"+ gene + \": \" + str(adata.uns[\"moranI\"][\"I\"].sort_values(ascending=False).index.tolist().index(gene)))\n",
    "        print(\"\")\n",
    "        print(\"Out of a total of \" + str(len(adata.uns[\"moranI\"][\"I\"].sort_values(ascending=False).index.tolist())) + \" genes\")\n",
    "        ########################\n",
    "\n",
    "    #plot\n",
    "    sq.pl.spatial_scatter(adata, color=genes_to_plot, size=1.2, img=False, figsize=(5, 5))\n"
   ]
  },
  {
   "cell_type": "code",
   "execution_count": null,
   "id": "77e1d600-bd46-4233-a9cd-521c12b7b9d4",
   "metadata": {},
   "outputs": [],
   "source": [
    "### KAT6A/KAT6B genes\n",
    "KAT6_gene_list =[\"KAT6A\", \"KAT6B\", \"ESR1\",\"BRPF1\",\"MEAF6\",\"ING5\"]\n",
    "\n",
    "for sample, data in data_dic.items():\n",
    "    plot_autocorrelation(data,sample,KAT6_gene_list)"
   ]
  },
  {
   "cell_type": "code",
   "execution_count": null,
   "id": "1e7edbb4-2b9c-4914-ab7e-7ecc3dcb175b",
   "metadata": {},
   "outputs": [],
   "source": []
  },
  {
   "cell_type": "markdown",
   "id": "94018a4e-bdc8-48f5-b192-d300f0577fed",
   "metadata": {},
   "source": [
    "## Plot spatial correlation between [\"KAT6A\",\"KAT6B\"] and [\"ESR1\",\"BRPF1\",\"MEAF6\",\"ING5\"]"
   ]
  },
  {
   "cell_type": "code",
   "execution_count": null,
   "id": "aa05bd7a-0694-4372-a47a-439c07ef8b06",
   "metadata": {},
   "outputs": [],
   "source": [
    "import geopandas as gpd\n",
    "from geopandas import GeoDataFrame\n",
    "from libpysal.weights import Queen\n",
    "from esda.moran import (Moran, Moran_BV, Moran_Local, Moran_Local_BV)\n",
    "from splot.esda import lisa_cluster \n"
   ]
  },
  {
   "cell_type": "code",
   "execution_count": null,
   "id": "555a0f97-c563-4dc7-9773-51c9cce2b00d",
   "metadata": {},
   "outputs": [],
   "source": [
    "################ Supresses warnings #################\n",
    "import warnings\n",
    "warnings.filterwarnings('ignore')\n",
    "#####################################################\n",
    "\n",
    "\n",
    "gene_list1 = [\"KAT6A\",\"KAT6B\"]\n",
    "gene_list2 = [\"ESR1\",\"BRPF1\",\"MEAF6\",\"ING5\", \"KAT6B\"]\n",
    "\n",
    "def gene_correlation(adata, sample, OUT_DIR, plot_save_name,image_res=\"lowres\"):\n",
    "\n",
    "    fig, ax = plt.subplots(len(gene_list1), len(gene_list2), figsize=(60, 20))\n",
    "\n",
    "    # add \"imagerow\" and \"imagecol\" to adata object\n",
    "    scale = adata.uns[\"spatial\"][sample][\"scalefactors\"][\"tissue_\" + image_res + \"_scalef\"]\n",
    "    image_coor = adata.obsm[\"spatial\"] * scale\n",
    "    adata.obs[\"imagecol\"] = image_coor[:, 0]\n",
    "    adata.obs[\"imagerow\"] = image_coor[:, 1]\n",
    "\n",
    "    adata.obsm[\"gpd\"] = gpd.GeoDataFrame(adata.obs, geometry=gpd.points_from_xy(\n",
    "        adata.obs.imagecol,\n",
    "        adata.obs.imagerow))\n",
    "\n",
    "    for i, gene1 in enumerate(gene_list1):\n",
    "        for j, gene2 in enumerate(gene_list2):\n",
    "            #print(\"Generating \" + gene1 + \" vs \" + gene2 + \" Plot...\")\n",
    "            x = adata.to_df()[gene1].values.astype(np.float64)\n",
    "            y = adata.to_df()[gene2].values.astype(np.float64)\n",
    "            w = Queen.from_dataframe(adata.obsm[\"gpd\"])\n",
    "\n",
    "            tissue_image = adata.uns[\"spatial\"][list(adata.uns[\"spatial\"].keys())[0]][\"images\"][image_res]\n",
    "\n",
    "            moran = Moran(y, w)\n",
    "            moran_bv = Moran_BV(y, x, w)\n",
    "            moran_loc = Moran_Local(y, w)\n",
    "            moran_loc_bv = Moran_Local_BV(y, x, w)\n",
    "\n",
    "            # Plot the LISA cluster on the specified axis\n",
    "            lisa_cluster(moran_loc_bv, adata.obsm[\"gpd\"], p=0.05, markersize=10, ax=ax[i, j], figsize = (10,10))\n",
    "            ax[i, j].imshow(tissue_image)\n",
    "            ax[i, j].set_title(gene1+\" vs \"+ gene2, fontsize = 20)\n",
    "\n",
    "    # Adjust subplot layout\n",
    "    #plt.tight_layout()\n",
    "\n",
    "    # Display the final plot\n",
    "    #plt.show()\n",
    "    plt.savefig(OUT_DIR+sample+\"/\"+sample+\"_\"+plot_save_name+\"_spatial_correlation.pdf\")\n",
    "    plt.close()\n",
    "\n",
    "    \n",
    "    return(adata)\n"
   ]
  },
  {
   "cell_type": "code",
   "execution_count": null,
   "id": "b1e56ce7-55bb-4f3c-90b9-077e32e5975a",
   "metadata": {
    "scrolled": true
   },
   "outputs": [],
   "source": [
    "auto_cor = {}\n",
    "for sample, data in data_dic.items():\n",
    "    auto_cor[sample] = gene_correlation(data,sample, OUT_DIR, plot_save_name = \"KAT6A\")"
   ]
  },
  {
   "cell_type": "markdown",
   "id": "78742e5a-b946-4907-9a2a-9d816318e37c",
   "metadata": {},
   "source": [
    "## Find Top Genes Spatially Correlated with KAT6A and KAT6B"
   ]
  },
  {
   "cell_type": "code",
   "execution_count": null,
   "id": "d44f187f-62c1-4d7a-a597-3de96848ba07",
   "metadata": {},
   "outputs": [],
   "source": [
    "ESR1_positive_spots = normalised_data_dic[\"VLP82_D\"][normalised_data_dic[\"VLP82_D\"][: , 'ESR1'].X > 0.4, :] \n",
    "\n",
    "## Plot ESR1 gene expression and positive spots\n",
    "sq.pl.spatial_scatter(normalised_data_dic[\"VLP82_D\"], color=\"ESR1\", size=1.2, img=False, figsize=(5, 5), cmap='Reds')\n",
    "plot_data(ESR1_positive_spots, \"VLP82_D\", 'label_transfer', UMAP = False)"
   ]
  },
  {
   "cell_type": "markdown",
   "id": "887cd53f-9d6f-42b2-a7d2-94fe9d182c28",
   "metadata": {},
   "source": [
    "## Look at Genes Spatially Autocorrelated to ESR1"
   ]
  },
  {
   "cell_type": "code",
   "execution_count": null,
   "id": "2e7e6d5f-4be5-46fc-babb-46a3620dba26",
   "metadata": {
    "scrolled": true
   },
   "outputs": [],
   "source": [
    "#### Run Spatial Autocorrelation\n",
    "sq.gr.spatial_autocorr(ESR1_positive_spots, mode=\"moran\")\n",
    "num_view = 12\n",
    "top_autocorr = (\n",
    "    ESR1_positive_spots.uns[\"moranI\"][\"I\"].sort_values(ascending=False).head(num_view).index.tolist()\n",
    ")\n"
   ]
  },
  {
   "cell_type": "markdown",
   "id": "8e32de72-4cd2-47a2-9cd1-d35b5067a1bb",
   "metadata": {},
   "source": [
    "### Plot Top 12 Genes"
   ]
  },
  {
   "cell_type": "code",
   "execution_count": null,
   "id": "df3dfbbd-d54d-49d2-b76c-67837069c81a",
   "metadata": {},
   "outputs": [],
   "source": [
    "sq.pl.spatial_scatter(\n",
    "    ESR1_positive_spots, color=top_autocorr, size=1, cmap=\"Reds\", img=False, figsize=(5, 5)\n",
    ")"
   ]
  },
  {
   "cell_type": "markdown",
   "id": "b9926833-06da-4a3f-8e24-df1edb83ac5f",
   "metadata": {},
   "source": [
    "### Get Rank for KAT6A/KAT6B Associated Genes"
   ]
  },
  {
   "cell_type": "code",
   "execution_count": null,
   "id": "b88ca957-b903-4877-a35e-0ef4dddb534a",
   "metadata": {},
   "outputs": [],
   "source": [
    "rank = ESR1_positive_spots.uns[\"moranI\"][\"I\"].sort_values(ascending=False)\n",
    "\n",
    "print(\"The Autocorrelation rank of genes to ERS1 (in ERS1+ spots)...\")\n",
    "print(\"\")\n",
    "for idx, gene in enumerate(rank.index.tolist()):\n",
    "    if gene in KAT6_gene_list:\n",
    "        print(gene +\" is ranked at: \"+str(idx))\n",
    "print(\"\")\n",
    "print(\"Out of a total of: \"+str(len(rank.index.tolist()))+ \" genes...\")\n"
   ]
  },
  {
   "cell_type": "code",
   "execution_count": null,
   "id": "56be837b-6b52-46e5-983e-817f6b3618e3",
   "metadata": {},
   "outputs": [],
   "source": [
    "rank.index"
   ]
  },
  {
   "cell_type": "markdown",
   "id": "dc6eef75-cb97-44a0-994d-b31b6bcad5b1",
   "metadata": {},
   "source": [
    "## Run Spatial Correlation for KAT6B and ESR1"
   ]
  },
  {
   "cell_type": "code",
   "execution_count": null,
   "id": "2e87d3e0-fe3e-4b3e-9984-58438f4bc99e",
   "metadata": {},
   "outputs": [],
   "source": [
    "import sys\n",
    "import seaborn as sns\n",
    "\n",
    "import spatialcorr"
   ]
  },
  {
   "cell_type": "code",
   "execution_count": null,
   "id": "7271c7ce-0111-4fde-bfc0-0f8c87f90e37",
   "metadata": {},
   "outputs": [],
   "source": [
    "test_data = ad.AnnData(data_dic['VLP82_D'].X)"
   ]
  },
  {
   "cell_type": "code",
   "execution_count": null,
   "id": "2da36678-2d5a-4a29-bdb4-d6f124683290",
   "metadata": {},
   "outputs": [],
   "source": [
    "test_data.obs_names = data_dic['VLP82_D'].obs_names\n",
    "test_data.var_names = data_dic['VLP82_D'].var_names\n",
    "test_data.obs['row'] = data_dic['VLP82_D'].obs['array_row'].astype(int)\n",
    "test_data.obs['col'] = data_dic['VLP82_D'].obs['array_col'].astype(int)\n",
    "test_data.obs['cluster'] = data_dic['VLP82_D'].obs['label_transfer']"
   ]
  },
  {
   "cell_type": "code",
   "execution_count": null,
   "id": "a7cb9d51-aa2b-47c3-a7f3-d4af957362c3",
   "metadata": {},
   "outputs": [],
   "source": [
    "test_data"
   ]
  },
  {
   "cell_type": "markdown",
   "id": "cf63f5ce-ba7f-4c8b-8c51-83364a9a64b5",
   "metadata": {},
   "source": [
    "#### Test Spatial Data"
   ]
  },
  {
   "cell_type": "code",
   "execution_count": null,
   "id": "d95342dd-4e8e-4240-bf9d-6d6c2e4a57e0",
   "metadata": {},
   "outputs": [],
   "source": [
    "spatialcorr.wrappers.kernel_diagnostics(\n",
    "    test_data,\n",
    "    'cluster',\n",
    "    bandwidth=5,\n",
    "    contrib_thresh=10,\n",
    "    dsize=2,\n",
    "    dpi=150\n",
    ")"
   ]
  },
  {
   "cell_type": "markdown",
   "id": "6178ca68-e119-485a-a530-4577e8a7e00f",
   "metadata": {},
   "source": [
    "#### Run SpatialCorrelation on KAT6A/B Gene List"
   ]
  },
  {
   "cell_type": "code",
   "execution_count": null,
   "id": "f6731c99-2ad1-447b-938f-76ca60e209e2",
   "metadata": {},
   "outputs": [],
   "source": [
    "spatialcorr.analysis_pipeline_set(\n",
    "    test_data,                    # The dataset\n",
    "    KAT6_gene_list,  # The gene set                  \n",
    "    'cluster',                # The key in `adata.obs` storing the cluster info\n",
    "    max_perms=100,            # Maximum number of permutations to run\n",
    "    dsize=5,                 # Control the size of the dots\n",
    "    verbose=0,                 # Don't output any debugging information\n",
    ")"
   ]
  },
  {
   "cell_type": "code",
   "execution_count": null,
   "id": "7b566782-b14a-451b-9e0d-8577c18187c8",
   "metadata": {},
   "outputs": [],
   "source": [
    "spatialcorr.plot.mult_genes_plot_correlation(\n",
    "    test_data,\n",
    "    KAT6_gene_list,\n",
    "    'cluster',\n",
    "    estimate='local',\n",
    "    dsize=1\n",
    ")\n"
   ]
  },
  {
   "cell_type": "markdown",
   "id": "133b491b-1b16-4886-bbd7-d6b1fba50a77",
   "metadata": {},
   "source": [
    "## Plot region-wide estimates of correlation"
   ]
  },
  {
   "cell_type": "code",
   "execution_count": null,
   "id": "83189bf1-7323-48b3-abfb-247262c0a18e",
   "metadata": {},
   "outputs": [],
   "source": [
    "spatialcorr.plot.mult_genes_plot_correlation(\n",
    "    test_data,                     # The dataset\n",
    "    KAT6_gene_list,   # The set of genes\n",
    "    'cluster',                 # The key in `adata.obs` storing the cluster info\n",
    "    estimate='regional',        # Set to 'regional' to show cluster-wide estimates\n",
    "    dsize = 1\n",
    ")"
   ]
  },
  {
   "cell_type": "markdown",
   "id": "5ea7b1ab-294d-464b-9b24-020aabe9f8a1",
   "metadata": {},
   "source": [
    "## Correlation between KAT6B and ERS1"
   ]
  },
  {
   "cell_type": "code",
   "execution_count": null,
   "id": "9651078b-7e75-469e-a5af-40cd6f737400",
   "metadata": {},
   "outputs": [],
   "source": [
    "spatialcorr.analysis_pipeline_pair(\n",
    "    test_data,              # The dataset\n",
    "    'KAT6B',            # Gene 1\n",
    "    'ESR1',            # Gene 2\n",
    "    cond_key='cluster', # The key in `adata.obs` storing the cluster info\n",
    "    bandwidth=5,        # Kernel bandwidth\n",
    "    max_perms=100,      # Maximum number of permutations to run\n",
    "    dsize=5,           # Control the size of the dots\n",
    "    verbose=0,          # Don't output any debuggin information      # Output format\n",
    ")"
   ]
  },
  {
   "cell_type": "code",
   "execution_count": null,
   "id": "1b41f0fb-374f-4846-9b49-ca0c7fec06ef",
   "metadata": {},
   "outputs": [],
   "source": [
    "# Calculate the correlation at each spot\n",
    "corrs, kept_inds = spatialcorr.compute_local_correlation(\n",
    "    test_data, \n",
    "    'KAT6B', \n",
    "    'ESR1', \n",
    "    row_key='row', \n",
    "    col_key='col', \n",
    "    condition='cluster'\n",
    ")\n",
    "\n",
    "# Plot the scatterplot of expression values within a neighborhood centered at row 16, column 40.\n",
    "spatialcorr.plot.plot_local_scatter(\n",
    "    test_data[kept_inds,:], \n",
    "    'KAT6B', \n",
    "    'ESR1', \n",
    "    16, \n",
    "    40, \n",
    "    corrs,\n",
    "    row_key='row', \n",
    "    col_key='col',\n",
    "    cmap='RdBu_r',\n",
    "    dsize=5,\n",
    "    vmin=-1,\n",
    "    vmax=1\n",
    ")"
   ]
  },
  {
   "cell_type": "markdown",
   "id": "dd033fee-ad09-41db-bce0-2d4c1dc45fd6",
   "metadata": {},
   "source": [
    "## Plot scatterplot of gene correlation for each cell type"
   ]
  },
  {
   "cell_type": "code",
   "execution_count": null,
   "id": "021e10e9-22c7-4f91-8bd3-9e3625736387",
   "metadata": {},
   "outputs": [],
   "source": [
    "spatialcorr.plot.region_scatterplots(\n",
    "    test_data,\n",
    "    'KAT6B', \n",
    "    'ESR1',\n",
    "    'cluster',\n",
    "    row_key='row',\n",
    "    col_key='col'\n",
    ")"
   ]
  },
  {
   "cell_type": "code",
   "execution_count": null,
   "id": "b588745e-46b4-499b-86a9-75c27851352f",
   "metadata": {},
   "outputs": [],
   "source": [
    "spatialcorr.plot.region_scatterplots(\n",
    "    test_data,\n",
    "    'GATA3', \n",
    "    'ESR1',\n",
    "    'cluster',\n",
    "    row_key='row',\n",
    "    col_key='col'\n",
    ")"
   ]
  }
 ],
 "metadata": {
  "kernelspec": {
   "display_name": "Python 3 (ipykernel)",
   "language": "python",
   "name": "python3"
  },
  "language_info": {
   "codemirror_mode": {
    "name": "ipython",
    "version": 3
   },
   "file_extension": ".py",
   "mimetype": "text/x-python",
   "name": "python",
   "nbconvert_exporter": "python",
   "pygments_lexer": "ipython3",
   "version": "3.8.13"
  }
 },
 "nbformat": 4,
 "nbformat_minor": 5
}
