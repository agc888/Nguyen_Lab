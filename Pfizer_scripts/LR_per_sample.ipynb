{
 "cells": [
  {
   "cell_type": "code",
   "execution_count": 1,
   "id": "7dafba2c",
   "metadata": {
    "tags": []
   },
   "outputs": [
    {
     "name": "stderr",
     "output_type": "stream",
     "text": [
      "/home/uqacause/.conda/envs/stlearn/lib/python3.9/site-packages/stlearn/tools/microenv/cci/het.py:192: NumbaDeprecationWarning: \u001b[1mThe keyword argument 'nopython=False' was supplied. From Numba 0.59.0 the default is being changed to True and use of 'nopython=False' will raise a warning as the argument will have no effect. See https://numba.readthedocs.io/en/stable/reference/deprecation.html#deprecation-of-object-mode-fall-back-behaviour-when-using-jit for details.\u001b[0m\n",
      "  @jit(parallel=True, nopython=False)\n"
     ]
    }
   ],
   "source": [
    "import stlearn as st\n",
    "from pathlib import Path\n",
    "st.settings.set_figure_params(dpi=180)\n",
    "import pandas as pd\n",
    "import math\n",
    "import scipy as sp\n",
    "import numpy as np\n",
    "import matplotlib.pyplot as plt\n",
    "import scanpy as sc\n",
    "import seaborn as sns\n",
    "import sys"
   ]
  },
  {
   "cell_type": "code",
   "execution_count": 2,
   "id": "f2586234-eb2d-4207-92b6-fda109ef8c5d",
   "metadata": {
    "tags": []
   },
   "outputs": [
    {
     "data": {
      "text/plain": [
       "'1.21.6'"
      ]
     },
     "execution_count": 2,
     "metadata": {},
     "output_type": "execute_result"
    }
   ],
   "source": [
    "np.__version__"
   ]
  },
  {
   "cell_type": "markdown",
   "id": "2b31708b-9399-4adc-86ff-2f171131b9ea",
   "metadata": {},
   "source": [
    "# Import Data"
   ]
  },
  {
   "cell_type": "markdown",
   "id": "4fe8aec9-5b6f-4a3c-9891-9bd34c68ff8b",
   "metadata": {},
   "source": [
    "### Get Sample to run"
   ]
  },
  {
   "cell_type": "code",
   "execution_count": 3,
   "id": "609d0b54-f80a-4755-b144-82d2fb87950b",
   "metadata": {
    "tags": []
   },
   "outputs": [
    {
     "ename": "ValueError",
     "evalue": "invalid literal for int() with base 10: '-f'",
     "output_type": "error",
     "traceback": [
      "\u001b[0;31m---------------------------------------------------------------------------\u001b[0m",
      "\u001b[0;31mValueError\u001b[0m                                Traceback (most recent call last)",
      "Cell \u001b[0;32mIn[3], line 2\u001b[0m\n\u001b[1;32m      1\u001b[0m samples \u001b[38;5;241m=\u001b[39m[\u001b[38;5;124m\"\u001b[39m\u001b[38;5;124mVLP78_A\u001b[39m\u001b[38;5;124m\"\u001b[39m,  \u001b[38;5;124m\"\u001b[39m\u001b[38;5;124mVLP78_D\u001b[39m\u001b[38;5;124m\"\u001b[39m,  \u001b[38;5;124m\"\u001b[39m\u001b[38;5;124mVLP79_A\u001b[39m\u001b[38;5;124m\"\u001b[39m,  \u001b[38;5;124m\"\u001b[39m\u001b[38;5;124mVLP79_D\u001b[39m\u001b[38;5;124m\"\u001b[39m,  \u001b[38;5;124m\"\u001b[39m\u001b[38;5;124mVLP80_A\u001b[39m\u001b[38;5;124m\"\u001b[39m,  \u001b[38;5;124m\"\u001b[39m\u001b[38;5;124mVLP80_D\u001b[39m\u001b[38;5;124m\"\u001b[39m,  \u001b[38;5;124m\"\u001b[39m\u001b[38;5;124mVLP81_A\u001b[39m\u001b[38;5;124m\"\u001b[39m,  \u001b[38;5;124m\"\u001b[39m\u001b[38;5;124mVLP82_A\u001b[39m\u001b[38;5;124m\"\u001b[39m,  \u001b[38;5;124m\"\u001b[39m\u001b[38;5;124mVLP82_D\u001b[39m\u001b[38;5;124m\"\u001b[39m,  \u001b[38;5;124m\"\u001b[39m\u001b[38;5;124mVLP83_A\u001b[39m\u001b[38;5;124m\"\u001b[39m,  \u001b[38;5;124m\"\u001b[39m\u001b[38;5;124mVLP83_D\u001b[39m\u001b[38;5;124m\"\u001b[39m]\n\u001b[0;32m----> 2\u001b[0m i \u001b[38;5;241m=\u001b[39m \u001b[38;5;28;43mint\u001b[39;49m\u001b[43m(\u001b[49m\u001b[43msys\u001b[49m\u001b[38;5;241;43m.\u001b[39;49m\u001b[43margv\u001b[49m\u001b[43m[\u001b[49m\u001b[38;5;241;43m1\u001b[39;49m\u001b[43m]\u001b[49m\u001b[43m)\u001b[49m\n\u001b[1;32m      3\u001b[0m sample \u001b[38;5;241m=\u001b[39m samples[i]\n",
      "\u001b[0;31mValueError\u001b[0m: invalid literal for int() with base 10: '-f'"
     ]
    }
   ],
   "source": [
    "samples =[\"VLP78_A\",  \"VLP78_D\",  \"VLP79_A\",  \"VLP79_D\",  \"VLP80_A\",  \"VLP80_D\",  \"VLP81_A\",  \"VLP82_A\",  \"VLP82_D\",  \"VLP83_A\",  \"VLP83_D\"]\n",
    "i = int(sys.argv[1])\n",
    "sample = samples[i]"
   ]
  },
  {
   "cell_type": "code",
   "execution_count": 5,
   "id": "5e651119",
   "metadata": {
    "tags": []
   },
   "outputs": [
    {
     "name": "stderr",
     "output_type": "stream",
     "text": [
      "/home/uqacause/.conda/envs/stlearn/lib/python3.9/site-packages/anndata/_core/anndata.py:1840: UserWarning: Variable names are not unique. To make them unique, call `.var_names_make_unique`.\n",
      "  utils.warn_names_duplicates(\"var\")\n",
      "/home/uqacause/.conda/envs/stlearn/lib/python3.9/site-packages/anndata/_core/anndata.py:1840: UserWarning: Variable names are not unique. To make them unique, call `.var_names_make_unique`.\n",
      "  utils.warn_names_duplicates(\"var\")\n"
     ]
    }
   ],
   "source": [
    "DATA_PATH = \"/QRISdata/Q2051/Pfizer/Visium/RAW_DATA/Pfizer/\"\n",
    "OUT_PATH = \"/QRISdata/Q1851/Andrew_C/Pfizer/Visium/\"\n",
    "\n",
    "data = st.Read10X(DATA_PATH+sample+\"/outs/\")"
   ]
  },
  {
   "cell_type": "markdown",
   "id": "20d402b6-36b8-40d5-9ae6-5766bedb3b52",
   "metadata": {},
   "source": [
    "# Add Seurat generated Label Transfer "
   ]
  },
  {
   "cell_type": "code",
   "execution_count": 6,
   "id": "775836f2",
   "metadata": {
    "tags": []
   },
   "outputs": [],
   "source": [
    "\n",
    "df = pd.read_csv(filepath_or_buffer= OUT_PATH + sample +\"/label_transfer/\"+ sample+ \"_label_transfer.csv\")\n",
    "df.set_index(\"Unnamed: 0\", inplace = True)\n",
    "data.obs[\"label_transfer\"] = df[\"predicted.id\"].astype('category')"
   ]
  },
  {
   "cell_type": "code",
   "execution_count": 7,
   "id": "6a0eea46-eea2-4653-ac79-d701a8578bdf",
   "metadata": {
    "tags": []
   },
   "outputs": [],
   "source": [
    "### Set up colour dictionary for all plots\n",
    "color_dict = { \"Cancer Epithelial\":\"#b3b1a6\",\n",
    "  \"Plasmablasts\": \"#24d7ff\",     \n",
    "  \"B-cells\" : \"#33A02C\",      \n",
    "  \"T-cells\" :  \"#E31A1C\",     \n",
    "  \"CAFs\" : \"#FB9A99\",          \n",
    "  \"Myeloid\" :  \"#1F78B4\" ,        \n",
    "  \"Endothelial\": \"#E8d9fc\",\n",
    "  \"PVL\": \"#FF7F00\"                  \n",
    "}"
   ]
  },
  {
   "cell_type": "code",
   "execution_count": 8,
   "id": "94e2eff9",
   "metadata": {
    "tags": []
   },
   "outputs": [],
   "source": [
    "#Plot data\n",
    "#sc.pl.spatial(data, color=['label_transfer'], palette=color_dict)"
   ]
  },
  {
   "cell_type": "markdown",
   "id": "805759c9-6d25-4dec-aaaf-407f3267a3bc",
   "metadata": {},
   "source": [
    "# Subset data to just define the Tumour Core\n",
    "\n",
    "### 'Cancer Epithelial' + 'CAFs'"
   ]
  },
  {
   "cell_type": "code",
   "execution_count": 9,
   "id": "71f17c50-a932-49be-ab80-5715aca78484",
   "metadata": {
    "tags": []
   },
   "outputs": [],
   "source": [
    "core = data.obs['label_transfer'].isin([\"Cancer Epithelial\",\"CAFs\"])\n",
    "core_data = data[core,:]"
   ]
  },
  {
   "cell_type": "code",
   "execution_count": 10,
   "id": "74300a6a-ddd9-4875-9a2b-744fe250c123",
   "metadata": {
    "tags": []
   },
   "outputs": [],
   "source": [
    "#clustered_samples = {}\n",
    "\n",
    "#def run_clustering(adata):\n",
    "#    sc.pp.normalize_total(adata, target_sum=1e4)\n",
    "#    #sc.pp.log1p(adata)\n",
    "#    sc.pp.neighbors(adata, n_neighbors=10, n_pcs=30)\n",
    "#   sc.tl.leiden(adata, resolution= 0.2)\n",
    "#    sc.tl.paga(adata)\n",
    "#    sc.pl.paga(adata, plot=False)\n",
    "#    sc.tl.umap(adata, init_pos='paga')\n",
    "#    return(adata)\n",
    "\n",
    "#for sample,data in lt_data.items():\n",
    "#    new_data = run_clustering(data)\n",
    "#    clustered_samples[sample] = new_data"
   ]
  },
  {
   "cell_type": "markdown",
   "id": "1188f7a2-e1fc-496a-907a-aad71d207787",
   "metadata": {
    "tags": []
   },
   "source": [
    "# Run Cell Cell Interactions within Tumour core"
   ]
  },
  {
   "cell_type": "code",
   "execution_count": 10,
   "id": "f99186bc-8750-4632-8f1a-d76f0409dc94",
   "metadata": {
    "tags": []
   },
   "outputs": [],
   "source": [
    "## Make file save directory\n",
    "lr_file_path = OUT_PATH + sample + \"/lr_analysis/\"\n",
    "stlearn_dir = Path(lr_file_path)\n",
    "\n",
    "# Check if the directory already exists\n",
    "if not stlearn_dir.exists():\n",
    "    # Create the directory\n",
    "    stlearn_dir.mkdir()\n"
   ]
  },
  {
   "cell_type": "code",
   "execution_count": 11,
   "id": "fd78ab5e-5d8b-473c-b2c8-52314f61fc81",
   "metadata": {
    "tags": []
   },
   "outputs": [
    {
     "name": "stdout",
     "output_type": "stream",
     "text": [
      "Calculating neighbours...\n",
      "2 spots with no neighbours, 6 median spot neighbours.\n",
      "Spot neighbour indices stored in adata.obsm['spot_neighbours'] & adata.obsm['spot_neigh_bcs'].\n",
      "Altogether 2126 valid L-R pairs\n"
     ]
    },
    {
     "name": "stderr",
     "output_type": "stream",
     "text": [
      "Generating backgrounds & testing each LR pair...:   2%|▏          [ time left: 2:02:19 ] \n"
     ]
    },
    {
     "ename": "KeyboardInterrupt",
     "evalue": "",
     "output_type": "error",
     "traceback": [
      "\u001b[0;31m---------------------------------------------------------------------------\u001b[0m",
      "\u001b[0;31mKeyboardInterrupt\u001b[0m                         Traceback (most recent call last)",
      "Cell \u001b[0;32mIn[11], line 3\u001b[0m\n\u001b[1;32m      1\u001b[0m lrs \u001b[38;5;241m=\u001b[39m st\u001b[38;5;241m.\u001b[39mtl\u001b[38;5;241m.\u001b[39mcci\u001b[38;5;241m.\u001b[39mload_lrs([\u001b[38;5;124m'\u001b[39m\u001b[38;5;124mconnectomeDB2020_lit\u001b[39m\u001b[38;5;124m'\u001b[39m], species\u001b[38;5;241m=\u001b[39m\u001b[38;5;124m'\u001b[39m\u001b[38;5;124mhuman\u001b[39m\u001b[38;5;124m'\u001b[39m)\n\u001b[0;32m----> 3\u001b[0m \u001b[43mst\u001b[49m\u001b[38;5;241;43m.\u001b[39;49m\u001b[43mtl\u001b[49m\u001b[38;5;241;43m.\u001b[39;49m\u001b[43mcci\u001b[49m\u001b[38;5;241;43m.\u001b[39;49m\u001b[43mrun\u001b[49m\u001b[43m(\u001b[49m\u001b[43mcore_data\u001b[49m\u001b[43m,\u001b[49m\u001b[43m \u001b[49m\u001b[43mlrs\u001b[49m\u001b[43m,\u001b[49m\n\u001b[1;32m      4\u001b[0m \u001b[43m                  \u001b[49m\u001b[43mmin_spots\u001b[49m\u001b[43m \u001b[49m\u001b[38;5;241;43m=\u001b[39;49m\u001b[43m \u001b[49m\u001b[38;5;241;43m20\u001b[39;49m\u001b[43m,\u001b[49m\u001b[43m \u001b[49m\u001b[38;5;66;43;03m#Filter out any LR pairs with no scores for less than min_spots\u001b[39;49;00m\n\u001b[1;32m      5\u001b[0m \u001b[43m                  \u001b[49m\u001b[43mdistance\u001b[49m\u001b[38;5;241;43m=\u001b[39;49m\u001b[38;5;28;43;01mNone\u001b[39;49;00m\u001b[43m,\u001b[49m\u001b[43m \u001b[49m\u001b[38;5;66;43;03m# None defaults to spot+immediate neighbours; distance=0 for within-spot mode\u001b[39;49;00m\n\u001b[1;32m      6\u001b[0m \u001b[43m                  \u001b[49m\u001b[43mn_pairs\u001b[49m\u001b[38;5;241;43m=\u001b[39;49m\u001b[38;5;241;43m10000\u001b[39;49m\u001b[43m,\u001b[49m\u001b[43m \u001b[49m\u001b[38;5;66;43;03m# Number of random pairs to generate; low as example, recommend ~10,000\u001b[39;49;00m\n\u001b[1;32m      7\u001b[0m \u001b[43m                  \u001b[49m\u001b[43mn_cpus\u001b[49m\u001b[38;5;241;43m=\u001b[39;49m\u001b[38;5;28;43;01mNone\u001b[39;49;00m\u001b[43m,\u001b[49m\u001b[43m \u001b[49m\u001b[38;5;66;43;03m# Number of CPUs for parallel. If None, detects & use all available.\u001b[39;49;00m\n\u001b[1;32m      8\u001b[0m \u001b[43m                  \u001b[49m\u001b[43m)\u001b[49m\n",
      "File \u001b[0;32m~/.conda/envs/stlearn/lib/python3.9/site-packages/stlearn/tools/microenv/cci/analysis.py:337\u001b[0m, in \u001b[0;36mrun\u001b[0;34m(adata, lrs, min_spots, distance, n_pairs, n_cpus, use_label, adj_method, pval_adj_cutoff, min_expr, save_bg, neg_binom, verbose)\u001b[0m\n\u001b[1;32m    333\u001b[0m     \u001b[38;5;28;01mreturn\u001b[39;00m\n\u001b[1;32m    335\u001b[0m \u001b[38;5;250m\u001b[39m\u001b[38;5;124;03m\"\"\" Permutation methods generating background per spot, & test lrs in spot.\u001b[39;00m\n\u001b[1;32m    336\u001b[0m \u001b[38;5;124;03m\"\"\"\u001b[39;00m\n\u001b[0;32m--> 337\u001b[0m \u001b[43mperform_spot_testing\u001b[49m\u001b[43m(\u001b[49m\n\u001b[1;32m    338\u001b[0m \u001b[43m    \u001b[49m\u001b[43madata\u001b[49m\u001b[43m,\u001b[49m\n\u001b[1;32m    339\u001b[0m \u001b[43m    \u001b[49m\u001b[43mlr_scores\u001b[49m\u001b[43m,\u001b[49m\n\u001b[1;32m    340\u001b[0m \u001b[43m    \u001b[49m\u001b[43mlrs\u001b[49m\u001b[43m,\u001b[49m\n\u001b[1;32m    341\u001b[0m \u001b[43m    \u001b[49m\u001b[43mn_pairs\u001b[49m\u001b[43m,\u001b[49m\n\u001b[1;32m    342\u001b[0m \u001b[43m    \u001b[49m\u001b[43mneighbours\u001b[49m\u001b[43m,\u001b[49m\n\u001b[1;32m    343\u001b[0m \u001b[43m    \u001b[49m\u001b[43mhet_vals\u001b[49m\u001b[43m,\u001b[49m\n\u001b[1;32m    344\u001b[0m \u001b[43m    \u001b[49m\u001b[43mmin_expr\u001b[49m\u001b[43m,\u001b[49m\n\u001b[1;32m    345\u001b[0m \u001b[43m    \u001b[49m\u001b[43madj_method\u001b[49m\u001b[43m,\u001b[49m\n\u001b[1;32m    346\u001b[0m \u001b[43m    \u001b[49m\u001b[43mpval_adj_cutoff\u001b[49m\u001b[43m,\u001b[49m\n\u001b[1;32m    347\u001b[0m \u001b[43m    \u001b[49m\u001b[43mverbose\u001b[49m\u001b[43m,\u001b[49m\n\u001b[1;32m    348\u001b[0m \u001b[43m    \u001b[49m\u001b[43msave_bg\u001b[49m\u001b[38;5;241;43m=\u001b[39;49m\u001b[43msave_bg\u001b[49m\u001b[43m,\u001b[49m\n\u001b[1;32m    349\u001b[0m \u001b[43m    \u001b[49m\u001b[43mneg_binom\u001b[49m\u001b[38;5;241;43m=\u001b[39;49m\u001b[43mneg_binom\u001b[49m\u001b[43m,\u001b[49m\n\u001b[1;32m    350\u001b[0m \u001b[43m\u001b[49m\u001b[43m)\u001b[49m\n",
      "File \u001b[0;32m~/.conda/envs/stlearn/lib/python3.9/site-packages/stlearn/tools/microenv/cci/permutation.py:102\u001b[0m, in \u001b[0;36mperform_spot_testing\u001b[0;34m(adata, lr_scores, lrs, n_pairs, neighbours, het_vals, min_expr, adj_method, pval_adj_cutoff, verbose, save_bg, neg_binom, quantiles)\u001b[0m\n\u001b[1;32m     99\u001b[0m \u001b[38;5;28;01mfor\u001b[39;00m lr_j \u001b[38;5;129;01min\u001b[39;00m \u001b[38;5;28mrange\u001b[39m(lr_scores\u001b[38;5;241m.\u001b[39mshape[\u001b[38;5;241m1\u001b[39m]):\n\u001b[1;32m    100\u001b[0m     lr_ \u001b[38;5;241m=\u001b[39m lrs[lr_j]\n\u001b[0;32m--> 102\u001b[0m     background, spot_indices \u001b[38;5;241m=\u001b[39m \u001b[43mget_lr_bg\u001b[49m\u001b[43m(\u001b[49m\n\u001b[1;32m    103\u001b[0m \u001b[43m        \u001b[49m\u001b[43madata\u001b[49m\u001b[43m,\u001b[49m\n\u001b[1;32m    104\u001b[0m \u001b[43m        \u001b[49m\u001b[43mneighbours\u001b[49m\u001b[43m,\u001b[49m\n\u001b[1;32m    105\u001b[0m \u001b[43m        \u001b[49m\u001b[43mhet_vals\u001b[49m\u001b[43m,\u001b[49m\n\u001b[1;32m    106\u001b[0m \u001b[43m        \u001b[49m\u001b[43mmin_expr\u001b[49m\u001b[43m,\u001b[49m\n\u001b[1;32m    107\u001b[0m \u001b[43m        \u001b[49m\u001b[43mlr_\u001b[49m\u001b[43m,\u001b[49m\n\u001b[1;32m    108\u001b[0m \u001b[43m        \u001b[49m\u001b[43mlr_scores\u001b[49m\u001b[43m[\u001b[49m\u001b[43m:\u001b[49m\u001b[43m,\u001b[49m\u001b[43m \u001b[49m\u001b[43mlr_j\u001b[49m\u001b[43m]\u001b[49m\u001b[43m,\u001b[49m\n\u001b[1;32m    109\u001b[0m \u001b[43m        \u001b[49m\u001b[43ml_quants\u001b[49m\u001b[43m[\u001b[49m\u001b[43mlr_j\u001b[49m\u001b[43m,\u001b[49m\u001b[43m \u001b[49m\u001b[43m:\u001b[49m\u001b[43m]\u001b[49m\u001b[43m,\u001b[49m\n\u001b[1;32m    110\u001b[0m \u001b[43m        \u001b[49m\u001b[43mr_quants\u001b[49m\u001b[43m[\u001b[49m\u001b[43mlr_j\u001b[49m\u001b[43m,\u001b[49m\u001b[43m \u001b[49m\u001b[43m:\u001b[49m\u001b[43m]\u001b[49m\u001b[43m,\u001b[49m\n\u001b[1;32m    111\u001b[0m \u001b[43m        \u001b[49m\u001b[43mgenes\u001b[49m\u001b[43m,\u001b[49m\n\u001b[1;32m    112\u001b[0m \u001b[43m        \u001b[49m\u001b[43mcandidate_quants\u001b[49m\u001b[43m,\u001b[49m\n\u001b[1;32m    113\u001b[0m \u001b[43m        \u001b[49m\u001b[43mgene_bg_genes\u001b[49m\u001b[43m,\u001b[49m\n\u001b[1;32m    114\u001b[0m \u001b[43m        \u001b[49m\u001b[43mn_genes\u001b[49m\u001b[43m,\u001b[49m\n\u001b[1;32m    115\u001b[0m \u001b[43m        \u001b[49m\u001b[43mn_pairs\u001b[49m\u001b[43m,\u001b[49m\n\u001b[1;32m    116\u001b[0m \u001b[43m    \u001b[49m\u001b[43m)\u001b[49m\n\u001b[1;32m    118\u001b[0m     \u001b[38;5;28;01mif\u001b[39;00m save_bg:\n\u001b[1;32m    119\u001b[0m         adata\u001b[38;5;241m.\u001b[39muns[\u001b[38;5;124m\"\u001b[39m\u001b[38;5;124mlrs_to_bg\u001b[39m\u001b[38;5;124m\"\u001b[39m][lr_] \u001b[38;5;241m=\u001b[39m background\n",
      "File \u001b[0;32m~/.conda/envs/stlearn/lib/python3.9/site-packages/stlearn/tools/microenv/cci/perm_utils.py:364\u001b[0m, in \u001b[0;36mget_lr_bg\u001b[0;34m(adata, neighbours, het_vals, min_expr, lr_, lr_score, l_quant, r_quant, genes, candidate_quants, gene_bg_genes, n_genes, n_pairs)\u001b[0m\n\u001b[1;32m    361\u001b[0m \u001b[38;5;28;01melse\u001b[39;00m:\n\u001b[1;32m    362\u001b[0m     r_genes \u001b[38;5;241m=\u001b[39m gene_bg_genes[r_]\n\u001b[0;32m--> 364\u001b[0m rand_pairs \u001b[38;5;241m=\u001b[39m \u001b[43mgen_rand_pairs\u001b[49m\u001b[43m(\u001b[49m\u001b[43ml_genes\u001b[49m\u001b[43m,\u001b[49m\u001b[43m \u001b[49m\u001b[43mr_genes\u001b[49m\u001b[43m,\u001b[49m\u001b[43m \u001b[49m\u001b[43mn_pairs\u001b[49m\u001b[43m)\u001b[49m\n\u001b[1;32m    365\u001b[0m spot_indices \u001b[38;5;241m=\u001b[39m np\u001b[38;5;241m.\u001b[39mwhere(lr_score \u001b[38;5;241m>\u001b[39m \u001b[38;5;241m0\u001b[39m)[\u001b[38;5;241m0\u001b[39m]\n\u001b[1;32m    367\u001b[0m background \u001b[38;5;241m=\u001b[39m get_lrs_scores(\n\u001b[1;32m    368\u001b[0m     adata,\n\u001b[1;32m    369\u001b[0m     rand_pairs,\n\u001b[0;32m   (...)\u001b[0m\n\u001b[1;32m    374\u001b[0m     spot_indices\u001b[38;5;241m=\u001b[39mspot_indices,\n\u001b[1;32m    375\u001b[0m )\n",
      "File \u001b[0;32m~/.conda/envs/stlearn/lib/python3.9/site-packages/numba/core/serialize.py:30\u001b[0m, in \u001b[0;36m_numba_unpickle\u001b[0;34m(address, bytedata, hashed)\u001b[0m\n\u001b[1;32m     26\u001b[0m \u001b[38;5;66;03m# Keep unpickled object via `numba_unpickle` alive.\u001b[39;00m\n\u001b[1;32m     27\u001b[0m _unpickled_memo \u001b[38;5;241m=\u001b[39m {}\n\u001b[0;32m---> 30\u001b[0m \u001b[38;5;28;01mdef\u001b[39;00m \u001b[38;5;21m_numba_unpickle\u001b[39m(address, bytedata, hashed):\n\u001b[1;32m     31\u001b[0m \u001b[38;5;250m    \u001b[39m\u001b[38;5;124;03m\"\"\"Used by `numba_unpickle` from _helperlib.c\u001b[39;00m\n\u001b[1;32m     32\u001b[0m \n\u001b[1;32m     33\u001b[0m \u001b[38;5;124;03m    Parameters\u001b[39;00m\n\u001b[0;32m   (...)\u001b[0m\n\u001b[1;32m     42\u001b[0m \u001b[38;5;124;03m        unpickled object\u001b[39;00m\n\u001b[1;32m     43\u001b[0m \u001b[38;5;124;03m    \"\"\"\u001b[39;00m\n\u001b[1;32m     44\u001b[0m     key \u001b[38;5;241m=\u001b[39m (address, hashed)\n",
      "\u001b[0;31mKeyboardInterrupt\u001b[0m: "
     ]
    }
   ],
   "source": [
    "lrs = st.tl.cci.load_lrs(['connectomeDB2020_lit'], species='human')\n",
    "\n",
    "st.tl.cci.run(core_data, lrs,\n",
    "                  min_spots = 20, #Filter out any LR pairs with no scores for less than min_spots\n",
    "                  distance=None, # None defaults to spot+immediate neighbours; distance=0 for within-spot mode\n",
    "                  n_pairs=10000, # Number of random pairs to generate; low as example, recommend ~10,000\n",
    "                  n_cpus=None, # Number of CPUs for parallel. If None, detects & use all available.\n",
    "                  ) "
   ]
  },
  {
   "cell_type": "code",
   "execution_count": 15,
   "id": "9bdb4fc0",
   "metadata": {
    "tags": []
   },
   "outputs": [
    {
     "name": "stdout",
     "output_type": "stream",
     "text": [
      "Updated adata.uns[lr_summary]\n",
      "Updated adata.obsm[lr_scores]\n",
      "Updated adata.obsm[lr_sig_scores]\n",
      "Updated adata.obsm[p_vals]\n",
      "Updated adata.obsm[p_adjs]\n",
      "Updated adata.obsm[-log10(p_adjs)]\n"
     ]
    }
   ],
   "source": [
    "st.tl.cci.adj_pvals(core_data, correct_axis='spot',pval_adj_cutoff=0.05, adj_method='fdr_bh')"
   ]
  },
  {
   "cell_type": "markdown",
   "id": "e2203d88-8497-4bb2-9981-4a94ba4b4887",
   "metadata": {
    "tags": []
   },
   "source": [
    "## Plots Cell-Cell Interactions"
   ]
  },
  {
   "cell_type": "code",
   "execution_count": 40,
   "id": "aa943843",
   "metadata": {
    "tags": []
   },
   "outputs": [],
   "source": [
    "fig, ax = plt.subplots(1, 1, figsize=(15, 5))\n",
    "st.pl.lr_summary(core_data, n_top=60, figsize=(10,3), show = False, ax=ax);\n",
    "plt.savefig(lr_file_path+sample+\"_top60_lrpairs.png\", dpi=300)\n",
    "plt.close()"
   ]
  },
  {
   "cell_type": "code",
   "execution_count": 41,
   "id": "fb769324",
   "metadata": {
    "tags": []
   },
   "outputs": [],
   "source": [
    "best_lr = core_data.uns['lr_summary'].index.values[0]\n",
    "stats = ['lr_scores', 'p_vals', 'p_adjs', '-log10(p_adjs)']\n",
    "\n",
    "fig, axes = plt.subplots(ncols=len(stats), figsize=(16,6))\n",
    "for i, stat in enumerate(stats):\n",
    "    st.pl.lr_result_plot(core_data, use_result=stat, use_lr=best_lr, show_color_bar=False, ax=axes[i]);\n",
    "    axes[i].set_title(f'{best_lr} {stat}')\n",
    "plt.savefig(lr_file_path+sample+\"_top_lrpair_spatial.png\", dpi=300)\n",
    "plt.close()"
   ]
  },
  {
   "cell_type": "markdown",
   "id": "a7213dec-aa05-4e9c-925c-33c08076e116",
   "metadata": {},
   "source": [
    "## Save Data"
   ]
  },
  {
   "cell_type": "code",
   "execution_count": 99,
   "id": "3f6dc4f5-4bc7-431d-8d14-74d5f57bdd5f",
   "metadata": {
    "tags": []
   },
   "outputs": [],
   "source": [
    "core_data_copy = core_data.copy()"
   ]
  },
  {
   "cell_type": "code",
   "execution_count": 100,
   "id": "5b7636a8-2815-4a69-a233-0005b2aadc17",
   "metadata": {
    "tags": []
   },
   "outputs": [],
   "source": [
    "core_data_copy.uns[\"lrfeatures\"] = core_data_copy.uns[\"lrfeatures\"].astype(str)"
   ]
  },
  {
   "cell_type": "code",
   "execution_count": 101,
   "id": "2ddf878f-6097-405f-b8eb-ca5965b13b60",
   "metadata": {
    "tags": []
   },
   "outputs": [],
   "source": [
    "core_data_copy.write_h5ad(lr_file_path+sample+\"_lr_data.h5ad\")"
   ]
  }
 ],
 "metadata": {
  "kernelspec": {
   "display_name": "Python 3 (ipykernel)",
   "language": "python",
   "name": "python3"
  },
  "language_info": {
   "codemirror_mode": {
    "name": "ipython",
    "version": 3
   },
   "file_extension": ".py",
   "mimetype": "text/x-python",
   "name": "python",
   "nbconvert_exporter": "python",
   "pygments_lexer": "ipython3",
   "version": "3.11.4"
  }
 },
 "nbformat": 4,
 "nbformat_minor": 5
}
