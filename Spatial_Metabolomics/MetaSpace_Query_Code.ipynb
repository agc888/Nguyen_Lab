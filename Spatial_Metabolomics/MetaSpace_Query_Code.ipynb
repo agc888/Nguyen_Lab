{
 "cells": [
  {
   "cell_type": "code",
   "execution_count": 5,
   "id": "d1d8dd98-be63-4d91-bf47-333ccf90e1f3",
   "metadata": {},
   "outputs": [
    {
     "ename": "ModuleNotFoundError",
     "evalue": "No module named 'metaspace'",
     "output_type": "error",
     "traceback": [
      "\u001b[0;31m---------------------------------------------------------------------------\u001b[0m",
      "\u001b[0;31mModuleNotFoundError\u001b[0m                       Traceback (most recent call last)",
      "Cell \u001b[0;32mIn[5], line 2\u001b[0m\n\u001b[1;32m      1\u001b[0m \u001b[38;5;28;01mimport\u001b[39;00m \u001b[38;5;21;01mjson\u001b[39;00m\n\u001b[0;32m----> 2\u001b[0m \u001b[38;5;28;01mfrom\u001b[39;00m \u001b[38;5;21;01mmetaspace\u001b[39;00m \u001b[38;5;28;01mimport\u001b[39;00m SMInstance\n",
      "\u001b[0;31mModuleNotFoundError\u001b[0m: No module named 'metaspace'"
     ]
    }
   ],
   "source": [
    "import json\n",
    "from metaspace import SMInstance"
   ]
  },
  {
   "cell_type": "code",
   "execution_count": 6,
   "id": "a1644c77-2a17-4f79-8dc5-7060629f147b",
   "metadata": {},
   "outputs": [
    {
     "ename": "SyntaxError",
     "evalue": "EOL while scanning string literal (3898076312.py, line 1)",
     "output_type": "error",
     "traceback": [
      "\u001b[0;36m  Cell \u001b[0;32mIn[6], line 1\u001b[0;36m\u001b[0m\n\u001b[0;31m    \"/QRISdata/Q1851/\u001b[0m\n\u001b[0m                     ^\u001b[0m\n\u001b[0;31mSyntaxError\u001b[0m\u001b[0;31m:\u001b[0m EOL while scanning string literal\n"
     ]
    }
   ],
   "source": [
    "\"/QRISdata/Q1851/Andrew_C/Metabolomics/test_A.`\""
   ]
  },
  {
   "cell_type": "code",
   "execution_count": null,
   "id": "af4a20a6-3b78-4f90-8424-eefa3772ab3f",
   "metadata": {},
   "outputs": [],
   "source": [
    "metadata = {\n",
    "    'Data_Type': 'Imaging MS',  # shouldn't be changed\n",
    "    'Sample_Information': {\n",
    "        'Organism': 'Homo Sapiens',\n",
    "        'Organism_Part': 'Brain',\n",
    "        'Condition': 'disease',\n",
    "        'Sample_Growth_Conditions': 'control'  # this is an extra field\n",
    "    },\n",
    "    'Sample_Preparation': {\n",
    "        'Sample_Stabilisation': 'Fresh frozen',\n",
    "        'Tissue_Modification': 'None',\n",
    "        'MALDI_Matrix': '2,5-dihydroxybenzoic acid (DHB)',\n",
    "        'MALDI_Matrix_Application': 'SunChrom Sprayer',\n",
    "        'Solvent': 'Ethanol'  # this is an extra field\n",
    "    },\n",
    "    'MS_Analysis': {\n",
    "        'Polarity': 'Positive',\n",
    "        'Ionisation_Source': 'MALDI',\n",
    "        'Analyzer': 'timsTOF fleX MALDI2',\n",
    "        'Detector_Resolving_Power': {\n",
    "            'mz': 200,\n",
    "            'Resolving_Power': 70000\n",
    "        },\n",
    "        'Pixel_Size': {\n",
    "            'Xaxis': 50,\n",
    "            'Yaxis': 50\n",
    "        }\n",
    "    }\n",
    "}"
   ]
  }
 ],
 "metadata": {
  "kernelspec": {
   "display_name": "Python 3 (ipykernel)",
   "language": "python",
   "name": "python3"
  },
  "language_info": {
   "codemirror_mode": {
    "name": "ipython",
    "version": 3
   },
   "file_extension": ".py",
   "mimetype": "text/x-python",
   "name": "python",
   "nbconvert_exporter": "python",
   "pygments_lexer": "ipython3",
   "version": "3.8.13"
  }
 },
 "nbformat": 4,
 "nbformat_minor": 5
}
