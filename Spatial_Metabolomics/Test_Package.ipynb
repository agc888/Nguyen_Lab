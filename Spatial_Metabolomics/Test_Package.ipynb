{
 "cells": [
  {
   "cell_type": "code",
   "execution_count": 39,
   "id": "4feccda9-c0f1-4295-acee-ca87f3790bfa",
   "metadata": {
    "scrolled": true
   },
   "outputs": [],
   "source": [
    "library(Cardinal)\n",
    "library(Seurat)\n",
    "library(progress)\n"
   ]
  },
  {
   "cell_type": "code",
   "execution_count": 40,
   "id": "de9969fb-1be2-45fb-81e6-d09bba780eac",
   "metadata": {},
   "outputs": [],
   "source": [
    "source(\"SpaMTP_functions.r\")"
   ]
  },
  {
   "cell_type": "code",
   "execution_count": 41,
   "id": "8a17c73e-7d59-4713-9159-1738296025cc",
   "metadata": {},
   "outputs": [],
   "source": [
    "DATA_DIR <- \"/scratch/user/uqacause/raw_data/2023_10_01_tissue_regions_imzml_file/\"\n",
    "OUT_DIR  <- \"/QRISdata/Q1851/Andrew_C/Metabolomics/SpaMTP/\"\n"
   ]
  },
  {
   "cell_type": "code",
   "execution_count": 42,
   "id": "fff3efb1-d0e0-40dc-8e4a-218400e89b04",
   "metadata": {},
   "outputs": [],
   "source": [
    "\n",
    "C1 <- readImzML(\"vlp94a_dhb_tisue region\",folder = DATA_DIR, mass.range = c(160,1500), resolution = 10)\n",
    "T1 <- readImzML(\"vlp94c_dhb_tissue region\",folder = DATA_DIR, mass.range = c(160,1500), resolution = 10)\n",
    "C2 <- readImzML(\"vlp94b_dhb_tissue region\",folder = DATA_DIR, mass.range = c(160,1500), resolution = 10)\n",
    "T2 <- readImzML(\"vlp94d_dhb_tissue region\",folder = DATA_DIR, mass.range = c(160,1500), resolution = 10)\n"
   ]
  },
  {
   "cell_type": "code",
   "execution_count": 43,
   "id": "b0ae8735-14ac-4ba9-82e3-2a80afbdd2a5",
   "metadata": {},
   "outputs": [
    {
     "name": "stderr",
     "output_type": "stream",
     "text": [
      "Setting Centroids as TRUE ...... \n",
      "\n"
     ]
    }
   ],
   "source": [
    "data <- merge.cardinalData(list(C1, T1, C2, T2), shift.image = FALSE)"
   ]
  },
  {
   "cell_type": "code",
   "execution_count": 44,
   "id": "6310d003-217a-4e85-9e9e-faebcce48278",
   "metadata": {},
   "outputs": [],
   "source": [
    "data_ssc <- readRDS(\"/scratch/user/uqacause/raw_data/All_Samples_ssc.RDS\")\n"
   ]
  },
  {
   "cell_type": "code",
   "execution_count": 45,
   "id": "15e8f53d-987d-487d-8230-f4e3e176f9ea",
   "metadata": {},
   "outputs": [
    {
     "name": "stderr",
     "output_type": "stream",
     "text": [
      "Getting cluster segments for resolution (s) = 25\n",
      "\n"
     ]
    }
   ],
   "source": [
    "## Add ssc annotations to normalised/raw Cardinal pixel data\n",
    "test <- add_ssc_annotation(data, data_ssc, resolution = 25)"
   ]
  },
  {
   "cell_type": "code",
   "execution_count": 46,
   "id": "5d1856b6-3252-41d7-b1a3-4e328c1ae06b",
   "metadata": {},
   "outputs": [
    {
     "name": "stderr",
     "output_type": "stream",
     "text": [
      "Warning message:\n",
      "“Feature names cannot have underscores ('_'), replacing with dashes ('-')”\n",
      "Warning message:\n",
      "“Feature names cannot have underscores ('_'), replacing with dashes ('-')”\n",
      "Warning message:\n",
      "“Feature names cannot have underscores ('_'), replacing with dashes ('-')”\n",
      "Warning message:\n",
      "“Feature names cannot have underscores ('_'), replacing with dashes ('-')”\n"
     ]
    }
   ],
   "source": [
    "image_to_int <- function(seurat_obj){\n",
    "  seurat_obj@images[[\"slice1\"]]@coordinates[[\"tissue\"]] <- as.integer(seurat_obj@images[[\"slice1\"]]@coordinates[[\"tissue\"]])\n",
    "  seurat_obj@images[[\"slice1\"]]@coordinates[[\"row\"]] <- as.integer(seurat_obj@images[[\"slice1\"]]@coordinates[[\"row\"]])\n",
    "  seurat_obj@images[[\"slice1\"]]@coordinates[[\"col\"]] <- as.integer(seurat_obj@images[[\"slice1\"]]@coordinates[[\"col\"]])\n",
    "  seurat_obj@images[[\"slice1\"]]@coordinates[[\"imagerow\"]] <- as.integer(seurat_obj@images[[\"slice1\"]]@coordinates[[\"imagerow\"]])\n",
    "  seurat_obj@images[[\"slice1\"]]@coordinates[[\"imagecol\"]] <- as.integer(seurat_obj@images[[\"slice1\"]]@coordinates[[\"imagecol\"]])\n",
    "  \n",
    "  return(seurat_obj)\n",
    "  \n",
    "}\n",
    "# Loads in visium data to overlay with seurat MALDI\n",
    "visium_A <- Load10X_Spatial(\"/QRISdata/Q1851/Xiao/Working_project/Tuan_project/VLP94_A/\")\n",
    "visium_C <- Load10X_Spatial(\"/QRISdata/Q1851/Xiao/Working_project/Tuan_project/VLP94_C/\")\n",
    "visium_B <- Load10X_Spatial(\"/QRISdata/Q1851/Xiao/Working_project/Tuan_project/VLP94_B/\")\n",
    "visium_D <- Load10X_Spatial(\"/QRISdata/Q1851/Xiao/Working_project/Tuan_project/VLP94_D/\")\n",
    "\n",
    "\n",
    "visium_A <- image_to_int(visium_A)\n",
    "visium_B <- image_to_int(visium_B)\n",
    "visium_C <- image_to_int(visium_C)\n",
    "visium_D <- image_to_int(visium_D)\n",
    "\n",
    "## Import Coordinate File\n",
    "# mapped_A <- read.csv(\"/QRISdata/Q1851/Andrew_C/Metabolomics/Xiao_coords/mapped_a_v1.csv\")\n",
    "# mapped_B <- read.csv(\"/QRISdata/Q1851/Andrew_C/Metabolomics/Xiao_coords/mapped_b_v1.csv\")\n",
    "# mapped_C <- read.csv(\"/QRISdata/Q1851/Andrew_C/Metabolomics/Xiao_coords/mapped_c_v1.csv\")\n",
    "# mapped_D <- read.csv(\"/QRISdata/Q1851/Andrew_C/Metabolomics/Xiao_coords/mapped_d_v1.csv\")\n",
    "\n",
    "mapped_A <- read.csv(\"/scratch/user/uqacause/raw_data/Xiao_coords/mapped_a_v1.csv\")\n",
    "mapped_B <- read.csv(\"/scratch/user/uqacause/raw_data/Xiao_coords/mapped_b_v1.csv\")\n",
    "mapped_C <- read.csv(\"/scratch/user/uqacause/raw_data/Xiao_coords/mapped_c_v1.csv\")\n",
    "mapped_D <- read.csv(\"/scratch/user/uqacause/raw_data/Xiao_coords/mapped_d_v1.csv\")\n",
    "\n",
    "\n",
    "### Convert column names to match required names\n",
    "mapped_A <- mapped_A[c(\"X_new\",\"Y_new\")]\n",
    "mapped_B <- mapped_B[c(\"X_new\",\"Y_new\")]\n",
    "mapped_C <- mapped_C[c(\"X_new\",\"Y_new\")]\n",
    "mapped_D <- mapped_D[c(\"X_new\",\"Y_new\")]"
   ]
  },
  {
   "cell_type": "code",
   "execution_count": 47,
   "id": "5cb464c9-ad5c-4da7-88c8-cc7b25ee249b",
   "metadata": {},
   "outputs": [
    {
     "name": "stderr",
     "output_type": "stream",
     "text": [
      "Convering Cardinal object to Seurat object .... \n",
      "\n",
      "Generating Seurat Barcode Labels from Pixel Coordinates .... \n",
      "\n",
      "Constructing Seurat Object ....\n",
      "\n",
      "Warning message:\n",
      "“Data is of class matrix. Coercing to dgCMatrix.”\n",
      "Adding Pixel Metadata ....\n",
      "\n",
      "Creating Centroids for Spatial Seurat Object ....\n",
      "\n"
     ]
    }
   ],
   "source": [
    "C1_seurat <- cardinal_to_seurat(test,\"vlp94a_dhb_tisue region\")"
   ]
  },
  {
   "cell_type": "code",
   "execution_count": 48,
   "id": "8b71e19b-5a77-417e-aae1-d4c534623b49",
   "metadata": {},
   "outputs": [
    {
     "ename": "ERROR",
     "evalue": "Error in eval(expr, envir, enclos): object 'T1_seurat_annotated' not found\n",
     "output_type": "error",
     "traceback": [
      "Error in eval(expr, envir, enclos): object 'T1_seurat_annotated' not found\nTraceback:\n",
      "1. convert_MALDI_to_visium_like_adata(visium_C, T1_seurat_annotated, \n .     img_res = \"hires\", new_library_id = \"MALDI\", res_increase = 4, \n .     assay = \"Spatial\", slice = \"slice1\")"
     ]
    }
   ],
   "source": [
    "T1_MALDIVIS <- convert_MALDI_to_visium_like_adata(visium_C, T1_seurat_annotated, img_res = \"hires\", new_library_id = \"MALDI\", res_increase = 4, assay = \"Spatial\", slice = \"slice1\")\n"
   ]
  },
  {
   "cell_type": "code",
   "execution_count": null,
   "id": "c109a344-d402-478b-b441-072d3f93b324",
   "metadata": {},
   "outputs": [],
   "source": [
    "SpatialFeaturePlot(T1_MALDIVIS, features = c(\"mz.448.246729024761\"), slot = \"counts\")"
   ]
  }
 ],
 "metadata": {
  "kernelspec": {
   "display_name": "R",
   "language": "R",
   "name": "ir"
  },
  "language_info": {
   "codemirror_mode": "r",
   "file_extension": ".r",
   "mimetype": "text/x-r-source",
   "name": "R",
   "pygments_lexer": "r",
   "version": "4.3.2"
  }
 },
 "nbformat": 4,
 "nbformat_minor": 5
}
