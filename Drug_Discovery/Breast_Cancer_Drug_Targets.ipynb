{
 "cells": [
  {
   "cell_type": "code",
   "execution_count": null,
   "id": "f58ae4b6-091d-4a72-bfb9-13b507a03fdb",
   "metadata": {
    "tags": []
   },
   "outputs": [],
   "source": [
    "import numpy as np\n",
    "import pandas as pd\n",
    "from pathlib import Path\n",
    "\n",
    "import anndata as ad\n",
    "import scanpy as sc\n",
    "import stlearn as st\n",
    "import matplotlib.pyplot as plt\n",
    "import pickle"
   ]
  },
  {
   "cell_type": "markdown",
   "id": "8db2d2e9-88f4-42eb-b26c-e722a94396dd",
   "metadata": {},
   "source": [
    "## Import Data"
   ]
  },
  {
   "cell_type": "code",
   "execution_count": null,
   "id": "ff2076f4-b129-423b-ae75-55bc4b26dae7",
   "metadata": {
    "tags": []
   },
   "outputs": [],
   "source": [
    "OUT_DIR = \"/QRISdata/Q1851/Andrew_C/Pfizer/Visium/\""
   ]
  },
  {
   "cell_type": "code",
   "execution_count": null,
   "id": "fe147a58-22e3-41cd-b3f6-1867db80f220",
   "metadata": {
    "tags": []
   },
   "outputs": [],
   "source": [
    "def read_pfizer_visium(sample):\n",
    "    PATH = \"/QRISdata/Q2051/Pfizer/Visium/RAW_DATA/Pfizer/Python/\" + sample + \"/outs/\"\n",
    "    adata = sc.read_visium(PATH)\n",
    "    adata.obsm['spatial'] = adata.obsm['spatial'].astype(np.int)\n",
    "    return(adata)"
   ]
  },
  {
   "cell_type": "code",
   "execution_count": null,
   "id": "01491ad0-7f5b-4d73-adba-4ffe56c8098c",
   "metadata": {
    "tags": []
   },
   "outputs": [],
   "source": [
    "#Samples to be used\n",
    "sample_list = [\"VLP78_A\",  \"VLP78_D\",  \"VLP79_A\",  \"VLP79_D\",  \"VLP80_A\",  \"VLP80_D\",  \"VLP81_A\",  \"VLP82_A\",  \"VLP82_D\",  \"VLP83_A\",  \"VLP83_D\"]\n",
    "\n",
    "data_dic = {}\n",
    "\n",
    "for sample in sample_list:\n",
    "    data_dic[sample] = read_pfizer_visium(sample)\n",
    "    "
   ]
  },
  {
   "cell_type": "code",
   "execution_count": null,
   "id": "24d9c495-2e1b-40a6-8100-9f92604658fc",
   "metadata": {
    "tags": []
   },
   "outputs": [],
   "source": [
    "#add label transfer\n",
    "def add_spot_annotations(adata, sample):\n",
    "    df = pd.read_csv(\"/QRISdata/Q1851/Andrew_C/Pfizer/Visium/\"+sample+\"/label_transfer/\"+sample+\"_label_transfer.csv\")\n",
    "    df.set_index(\"Unnamed: 0\", inplace=True)\n",
    "    adata.obs[\"Cell Types\"] = df[\"predicted.id\"]\n",
    "    adata = adata[adata.obs['Cell Types'].notna()]\n",
    "    return(adata)"
   ]
  },
  {
   "cell_type": "code",
   "execution_count": null,
   "id": "461d7824-6f6c-432e-8c5d-6e7dac03bf01",
   "metadata": {
    "tags": []
   },
   "outputs": [],
   "source": [
    "for sample, data in data_dic.items():\n",
    "    new_data = add_spot_annotations(data, sample)\n",
    "    data_dic[sample] = new_data\n",
    "    "
   ]
  },
  {
   "cell_type": "code",
   "execution_count": null,
   "id": "2288b236-b192-4fab-9963-3c255b68f5da",
   "metadata": {
    "tags": []
   },
   "outputs": [],
   "source": [
    "with open('/QRISdata/Q2051/Jacky/visium_adata_gt.pkl', 'rb') as f:\n",
    "    data_dict = pickle.load(f)\n",
    "    \n",
    "data_dict.update(data_dic)"
   ]
  },
  {
   "cell_type": "markdown",
   "id": "6c5cf4e3-51aa-4934-ba7b-74658b3f0f71",
   "metadata": {
    "tags": []
   },
   "source": [
    "# Process Data"
   ]
  },
  {
   "cell_type": "code",
   "execution_count": null,
   "id": "b8ead8be-7693-435a-b01e-62b9bc15986c",
   "metadata": {
    "tags": []
   },
   "outputs": [],
   "source": [
    "def process_visium(adata):\n",
    "    #print(\"filtering data\")\n",
    "    sc.pp.filter_cells(adata, min_counts=10)\n",
    "    sc.pp.filter_genes(adata, min_cells=3)\n",
    "    #print(\"normalize total\")\n",
    "    sc.pp.normalize_total(adata)\n",
    "    #print(\"log transform\")\n",
    "    sc.pp.log1p(adata)\n",
    "    #print(\"scale\")\n",
    "    sc.pp.scale(adata, max_value=10)\n",
    "    return(adata)"
   ]
  },
  {
   "cell_type": "code",
   "execution_count": null,
   "id": "a98e02d9-d508-487f-b1a4-d020664e222e",
   "metadata": {
    "tags": []
   },
   "outputs": [],
   "source": [
    "normalised_data_dic = {}\n",
    "for sample, data in data_dict.items():\n",
    "    normalised_data_dic[sample] = process_visium(data.copy())"
   ]
  },
  {
   "cell_type": "markdown",
   "id": "144a12c5-ce07-470f-a7e7-e22547c5de91",
   "metadata": {},
   "source": [
    "# Cluster Data "
   ]
  },
  {
   "cell_type": "code",
   "execution_count": null,
   "id": "18afac41-558a-4d6f-b4d4-85364e5695bb",
   "metadata": {
    "tags": []
   },
   "outputs": [],
   "source": [
    "def cluster_visium(adata):\n",
    "    resolution = 0.5\n",
    "    #print(\"PCA\")\n",
    "    sc.tl.pca(adata, svd_solver=\"arpack\")\n",
    "    #print(\"neighbors\")\n",
    "    sc.pp.neighbors(adata, n_neighbors=10, n_pcs=30)\n",
    "    #print(\"UMAP\")\n",
    "    sc.tl.umap(adata)\n",
    "    #print(\"Leiden\")\n",
    "    sc.tl.leiden(adata, resolution=resolution)\n",
    "    return(adata)"
   ]
  },
  {
   "cell_type": "code",
   "execution_count": null,
   "id": "b8fc72e3-cb32-4ea3-89be-dee432a1af92",
   "metadata": {
    "tags": []
   },
   "outputs": [],
   "source": [
    "for sample, data in normalised_data_dic.items():\n",
    "    normalised_data_dic[sample] = cluster_visium(data)"
   ]
  },
  {
   "cell_type": "code",
   "execution_count": null,
   "id": "2f995899-f9b4-4a9e-a52b-7c6a57ebab88",
   "metadata": {
    "tags": []
   },
   "outputs": [],
   "source": [
    "def plot_data(adata, sample, data_to_plot, UMAP = False, dont_show = True):\n",
    "    if dont_show == True:\n",
    "        if UMAP == True:\n",
    "            fig, (ax1, ax2) = plt.subplots(1, 2, figsize=(20, 10))\n",
    "\n",
    "\n",
    "            # Create the first plot\n",
    "            plot1  = sc.pl.umap(adata, color=[data_to_plot], size=10,  ax=ax1, show=False, title= str(sample)+ \": \" + str(data_to_plot) + \" UMAP\");\n",
    "            plt.close()\n",
    "            # Create the second plot\n",
    "            plot2 = sc.pl.spatial(adata, color=[data_to_plot], size=1.3,  ax=ax2, title= str(sample)+ \":  \"+str(data_to_plot)+ \" Spatial Plot\");\n",
    "            plt.close()\n",
    "            \n",
    "        else:\n",
    "            sc.pl.spatial(adata, color=[data_to_plot], size=1.3, title= str(sample)+ \":  \"+str(data_to_plot)+ \" Spatial Plot\");\n",
    "            plt.close()\n",
    "    else:\n",
    "        if UMAP == True:\n",
    "            fig, (ax1, ax2) = plt.subplots(1, 2, figsize=(20, 10))\n",
    "\n",
    "\n",
    "            # Create the first plot\n",
    "            plot1  = sc.pl.umap(adata, color=[data_to_plot], size=10,  ax=ax1, show=False, title= str(sample)+ \": \" + str(data_to_plot) + \" UMAP\");\n",
    "            plt.close()\n",
    "            # Create the second plot\n",
    "            plot2 = sc.pl.spatial(adata, color=[data_to_plot], size=1.3,  ax=ax2, title= str(sample)+ \":  \"+str(data_to_plot)+ \" Spatial Plot\");\n",
    "            plt.close()\n",
    "            \n",
    "        else:\n",
    "            sc.pl.spatial(adata, color=[data_to_plot], size=1.3, title= str(sample)+ \":  \"+str(data_to_plot)+ \" Spatial Plot\");\n",
    "            plt.close()\n",
    "    \n",
    "    "
   ]
  },
  {
   "cell_type": "code",
   "execution_count": null,
   "id": "598c880e-8bbd-4f72-83b1-4219fc64e617",
   "metadata": {
    "tags": []
   },
   "outputs": [],
   "source": [
    "for sample, data in normalised_data_dic.items():\n",
    "    plot_data(data, sample, \"leiden\", UMAP=True)"
   ]
  },
  {
   "cell_type": "markdown",
   "id": "0b87ca57-a0e5-4636-b380-3d5d1b7325e2",
   "metadata": {
    "tags": []
   },
   "source": [
    "# Look at Target Genes"
   ]
  },
  {
   "cell_type": "code",
   "execution_count": null,
   "id": "858c1a56-c834-49ce-915e-aaf6ac2c9c2d",
   "metadata": {
    "tags": []
   },
   "outputs": [],
   "source": [
    "GENE_LIST = [\"OTR\", \"V1AR\", \"V1BR\", \"V2R\",\n",
    "               \"AVPR1A\", \"AVPR1B\",\"AVPR3\", \"AVPR2\",\n",
    "               \"NK1\",\n",
    "               \"NTSR1\", \"SORT1\",\n",
    "               \"MCHR1\", \"MCHR2\",\"GPR145\",\n",
    "               \"PAC1\", \"PAC1R\", \"VPAC1\",\"VPAC1R\",\"VPAC2\",\"VPAC2R\",\n",
    "               \"NPY1R\",\"NPY2R\",\"PPYR1\",\"NPY5R\",\n",
    "               \"MC3\", \"MC4\", \"MC5\",\"MC3R\", \"MC4R\", \"MC5R\",\n",
    "               \"MC1\", \"MC1R\",\n",
    "               \"SST\",\"SSTR1\",\"SSTR2\",\n",
    "               \"OX1\",\"OX2\",\"HCRT\",\"HCRTR1\",\"HCRTR2\"]\n"
   ]
  },
  {
   "cell_type": "code",
   "execution_count": null,
   "id": "f8e96b20-ba81-460f-a335-b34dc21f163e",
   "metadata": {
    "tags": []
   },
   "outputs": [],
   "source": [
    "def plot_gene_list(data, sample):\n",
    "    gene_list_to_plot = []\n",
    "    for idx, gene in enumerate(GENE_LIST):\n",
    "        if gene in data.var_names:\n",
    "            gene_list_to_plot.append(gene)\n",
    "    with plt.rc_context():\n",
    "        sc.pl.spatial(data, color=gene_list_to_plot, show = False, alpha_img=0.5, use_raw= False, vmin = 0, vmax = 2);\n",
    "        #plt.savefig(\"/QRISdata/Q1851/Andrew_C/Breast_Cancer_Drug/genes_of_interest_\"+ sample+'.pdf')\n",
    "        plt.close()\n"
   ]
  },
  {
   "cell_type": "code",
   "execution_count": null,
   "id": "ee4b2c3f-df4f-4519-8ad3-ca8cc7a7aa0f",
   "metadata": {
    "tags": []
   },
   "outputs": [],
   "source": [
    "for sample, data in normalised_data_dic.items():\n",
    "    plot_gene_list(data, sample)"
   ]
  }
 ],
 "metadata": {
  "kernelspec": {
   "display_name": "Python 3 (ipykernel)",
   "language": "python",
   "name": "python3"
  },
  "language_info": {
   "codemirror_mode": {
    "name": "ipython",
    "version": 3
   },
   "file_extension": ".py",
   "mimetype": "text/x-python",
   "name": "python",
   "nbconvert_exporter": "python",
   "pygments_lexer": "ipython3",
   "version": "3.9.17"
  }
 },
 "nbformat": 4,
 "nbformat_minor": 5
}
